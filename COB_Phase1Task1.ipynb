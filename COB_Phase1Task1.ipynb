{
 "cells": [
  {
   "cell_type": "markdown",
   "id": "979439bb",
   "metadata": {},
   "source": [
    "# Importing necessary libraries"
   ]
  },
  {
   "cell_type": "code",
   "execution_count": 6,
   "id": "778ce9e4",
   "metadata": {},
   "outputs": [],
   "source": [
    "import pandas as pd\n",
    "import requests"
   ]
  },
  {
   "cell_type": "markdown",
   "id": "9254abed",
   "metadata": {},
   "source": [
    "# Fetching a response using \"get\" request on the URL"
   ]
  },
  {
   "cell_type": "code",
   "execution_count": 9,
   "id": "ab9bf660",
   "metadata": {},
   "outputs": [],
   "source": [
    "url = \"https://api.binance.com/api/v3/ticker/24hr\"\n",
    "response = requests.get(url)\n",
    "\n",
    "if response.status_code == 200:\n",
    "    data = response.json()\n",
    "    \n",
    "else:\n",
    "    print(\"Failed to retrieve data from the API\")\n",
    "    exit()"
   ]
  },
  {
   "cell_type": "markdown",
   "id": "924a4348",
   "metadata": {},
   "source": [
    "# Convert the JSON format to CSV using pandas"
   ]
  },
  {
   "cell_type": "code",
   "execution_count": 10,
   "id": "eede602a",
   "metadata": {},
   "outputs": [
    {
     "name": "stdout",
     "output_type": "stream",
     "text": [
      "CSV file created successfully.\n"
     ]
    }
   ],
   "source": [
    "df = pd.DataFrame(data)\n",
    "\n",
    "df.to_csv('binance_data.csv', index=False)\n",
    "\n",
    "print(\"CSV file created successfully.\")"
   ]
  }
 ],
 "metadata": {
  "kernelspec": {
   "display_name": "Python 3 (ipykernel)",
   "language": "python",
   "name": "python3"
  },
  "language_info": {
   "codemirror_mode": {
    "name": "ipython",
    "version": 3
   },
   "file_extension": ".py",
   "mimetype": "text/x-python",
   "name": "python",
   "nbconvert_exporter": "python",
   "pygments_lexer": "ipython3",
   "version": "3.11.4"
  }
 },
 "nbformat": 4,
 "nbformat_minor": 5
}
