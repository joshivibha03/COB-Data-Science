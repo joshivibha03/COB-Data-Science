{
 "cells": [
  {
   "cell_type": "markdown",
   "id": "f44399c1",
   "metadata": {},
   "source": [
    "# Importing Necessary Libraries"
   ]
  },
  {
   "cell_type": "code",
   "execution_count": 4,
   "id": "6e05387e",
   "metadata": {},
   "outputs": [],
   "source": [
    "import numpy as np\n",
    "import pandas as pd"
   ]
  },
  {
   "cell_type": "markdown",
   "id": "635f858b",
   "metadata": {},
   "source": [
    "# Loading the dataset into Pandas dataframe and replacing 'Not Given' data with NaN values"
   ]
  },
  {
   "cell_type": "code",
   "execution_count": 87,
   "id": "662a115d",
   "metadata": {
    "scrolled": true
   },
   "outputs": [
    {
     "data": {
      "text/html": [
       "<div>\n",
       "<style scoped>\n",
       "    .dataframe tbody tr th:only-of-type {\n",
       "        vertical-align: middle;\n",
       "    }\n",
       "\n",
       "    .dataframe tbody tr th {\n",
       "        vertical-align: top;\n",
       "    }\n",
       "\n",
       "    .dataframe thead th {\n",
       "        text-align: right;\n",
       "    }\n",
       "</style>\n",
       "<table border=\"1\" class=\"dataframe\">\n",
       "  <thead>\n",
       "    <tr style=\"text-align: right;\">\n",
       "      <th></th>\n",
       "      <th>show_id</th>\n",
       "      <th>type</th>\n",
       "      <th>title</th>\n",
       "      <th>director</th>\n",
       "      <th>country</th>\n",
       "      <th>date_added</th>\n",
       "      <th>release_year</th>\n",
       "      <th>rating</th>\n",
       "      <th>duration</th>\n",
       "      <th>listed_in</th>\n",
       "    </tr>\n",
       "  </thead>\n",
       "  <tbody>\n",
       "    <tr>\n",
       "      <th>0</th>\n",
       "      <td>s1</td>\n",
       "      <td>Movie</td>\n",
       "      <td>Dick Johnson Is Dead</td>\n",
       "      <td>Kirsten Johnson</td>\n",
       "      <td>United States</td>\n",
       "      <td>9/25/2021</td>\n",
       "      <td>2020</td>\n",
       "      <td>PG-13</td>\n",
       "      <td>90 min</td>\n",
       "      <td>Documentaries</td>\n",
       "    </tr>\n",
       "    <tr>\n",
       "      <th>1</th>\n",
       "      <td>s3</td>\n",
       "      <td>TV Show</td>\n",
       "      <td>Ganglands</td>\n",
       "      <td>Julien Leclercq</td>\n",
       "      <td>France</td>\n",
       "      <td>9/24/2021</td>\n",
       "      <td>2021</td>\n",
       "      <td>TV-MA</td>\n",
       "      <td>1 Season</td>\n",
       "      <td>Crime TV Shows, International TV Shows, TV Act...</td>\n",
       "    </tr>\n",
       "    <tr>\n",
       "      <th>2</th>\n",
       "      <td>s6</td>\n",
       "      <td>TV Show</td>\n",
       "      <td>Midnight Mass</td>\n",
       "      <td>Mike Flanagan</td>\n",
       "      <td>United States</td>\n",
       "      <td>9/24/2021</td>\n",
       "      <td>2021</td>\n",
       "      <td>TV-MA</td>\n",
       "      <td>1 Season</td>\n",
       "      <td>TV Dramas, TV Horror, TV Mysteries</td>\n",
       "    </tr>\n",
       "    <tr>\n",
       "      <th>3</th>\n",
       "      <td>s14</td>\n",
       "      <td>Movie</td>\n",
       "      <td>Confessions of an Invisible Girl</td>\n",
       "      <td>Bruno Garotti</td>\n",
       "      <td>Brazil</td>\n",
       "      <td>9/22/2021</td>\n",
       "      <td>2021</td>\n",
       "      <td>TV-PG</td>\n",
       "      <td>91 min</td>\n",
       "      <td>Children &amp; Family Movies, Comedies</td>\n",
       "    </tr>\n",
       "    <tr>\n",
       "      <th>4</th>\n",
       "      <td>s8</td>\n",
       "      <td>Movie</td>\n",
       "      <td>Sankofa</td>\n",
       "      <td>Haile Gerima</td>\n",
       "      <td>United States</td>\n",
       "      <td>9/24/2021</td>\n",
       "      <td>1993</td>\n",
       "      <td>TV-MA</td>\n",
       "      <td>125 min</td>\n",
       "      <td>Dramas, Independent Movies, International Movies</td>\n",
       "    </tr>\n",
       "    <tr>\n",
       "      <th>...</th>\n",
       "      <td>...</td>\n",
       "      <td>...</td>\n",
       "      <td>...</td>\n",
       "      <td>...</td>\n",
       "      <td>...</td>\n",
       "      <td>...</td>\n",
       "      <td>...</td>\n",
       "      <td>...</td>\n",
       "      <td>...</td>\n",
       "      <td>...</td>\n",
       "    </tr>\n",
       "    <tr>\n",
       "      <th>8785</th>\n",
       "      <td>s8797</td>\n",
       "      <td>TV Show</td>\n",
       "      <td>Yunus Emre</td>\n",
       "      <td>NaN</td>\n",
       "      <td>Turkey</td>\n",
       "      <td>1/17/2017</td>\n",
       "      <td>2016</td>\n",
       "      <td>TV-PG</td>\n",
       "      <td>2 Seasons</td>\n",
       "      <td>International TV Shows, TV Dramas</td>\n",
       "    </tr>\n",
       "    <tr>\n",
       "      <th>8786</th>\n",
       "      <td>s8798</td>\n",
       "      <td>TV Show</td>\n",
       "      <td>Zak Storm</td>\n",
       "      <td>NaN</td>\n",
       "      <td>United States</td>\n",
       "      <td>9/13/2018</td>\n",
       "      <td>2016</td>\n",
       "      <td>TV-Y7</td>\n",
       "      <td>3 Seasons</td>\n",
       "      <td>Kids' TV</td>\n",
       "    </tr>\n",
       "    <tr>\n",
       "      <th>8787</th>\n",
       "      <td>s8801</td>\n",
       "      <td>TV Show</td>\n",
       "      <td>Zindagi Gulzar Hai</td>\n",
       "      <td>NaN</td>\n",
       "      <td>Pakistan</td>\n",
       "      <td>12/15/2016</td>\n",
       "      <td>2012</td>\n",
       "      <td>TV-PG</td>\n",
       "      <td>1 Season</td>\n",
       "      <td>International TV Shows, Romantic TV Shows, TV ...</td>\n",
       "    </tr>\n",
       "    <tr>\n",
       "      <th>8788</th>\n",
       "      <td>s8784</td>\n",
       "      <td>TV Show</td>\n",
       "      <td>Yoko</td>\n",
       "      <td>NaN</td>\n",
       "      <td>Pakistan</td>\n",
       "      <td>6/23/2018</td>\n",
       "      <td>2016</td>\n",
       "      <td>TV-Y</td>\n",
       "      <td>1 Season</td>\n",
       "      <td>Kids' TV</td>\n",
       "    </tr>\n",
       "    <tr>\n",
       "      <th>8789</th>\n",
       "      <td>s8786</td>\n",
       "      <td>TV Show</td>\n",
       "      <td>YOM</td>\n",
       "      <td>NaN</td>\n",
       "      <td>Pakistan</td>\n",
       "      <td>6/7/2018</td>\n",
       "      <td>2016</td>\n",
       "      <td>TV-Y7</td>\n",
       "      <td>1 Season</td>\n",
       "      <td>Kids' TV</td>\n",
       "    </tr>\n",
       "  </tbody>\n",
       "</table>\n",
       "<p>8790 rows × 10 columns</p>\n",
       "</div>"
      ],
      "text/plain": [
       "     show_id     type                             title         director  \\\n",
       "0         s1    Movie              Dick Johnson Is Dead  Kirsten Johnson   \n",
       "1         s3  TV Show                         Ganglands  Julien Leclercq   \n",
       "2         s6  TV Show                     Midnight Mass    Mike Flanagan   \n",
       "3        s14    Movie  Confessions of an Invisible Girl    Bruno Garotti   \n",
       "4         s8    Movie                           Sankofa     Haile Gerima   \n",
       "...      ...      ...                               ...              ...   \n",
       "8785   s8797  TV Show                        Yunus Emre              NaN   \n",
       "8786   s8798  TV Show                         Zak Storm              NaN   \n",
       "8787   s8801  TV Show                Zindagi Gulzar Hai              NaN   \n",
       "8788   s8784  TV Show                              Yoko              NaN   \n",
       "8789   s8786  TV Show                               YOM              NaN   \n",
       "\n",
       "            country  date_added  release_year rating   duration  \\\n",
       "0     United States   9/25/2021          2020  PG-13     90 min   \n",
       "1            France   9/24/2021          2021  TV-MA   1 Season   \n",
       "2     United States   9/24/2021          2021  TV-MA   1 Season   \n",
       "3            Brazil   9/22/2021          2021  TV-PG     91 min   \n",
       "4     United States   9/24/2021          1993  TV-MA    125 min   \n",
       "...             ...         ...           ...    ...        ...   \n",
       "8785         Turkey   1/17/2017          2016  TV-PG  2 Seasons   \n",
       "8786  United States   9/13/2018          2016  TV-Y7  3 Seasons   \n",
       "8787       Pakistan  12/15/2016          2012  TV-PG   1 Season   \n",
       "8788       Pakistan   6/23/2018          2016   TV-Y   1 Season   \n",
       "8789       Pakistan    6/7/2018          2016  TV-Y7   1 Season   \n",
       "\n",
       "                                              listed_in  \n",
       "0                                         Documentaries  \n",
       "1     Crime TV Shows, International TV Shows, TV Act...  \n",
       "2                    TV Dramas, TV Horror, TV Mysteries  \n",
       "3                    Children & Family Movies, Comedies  \n",
       "4      Dramas, Independent Movies, International Movies  \n",
       "...                                                 ...  \n",
       "8785                  International TV Shows, TV Dramas  \n",
       "8786                                           Kids' TV  \n",
       "8787  International TV Shows, Romantic TV Shows, TV ...  \n",
       "8788                                           Kids' TV  \n",
       "8789                                           Kids' TV  \n",
       "\n",
       "[8790 rows x 10 columns]"
      ]
     },
     "execution_count": 87,
     "metadata": {},
     "output_type": "execute_result"
    }
   ],
   "source": [
    "df= pd.read_csv('dataset - netflix1_internship.csv', na_values='Not Given')\n",
    "df"
   ]
  },
  {
   "cell_type": "markdown",
   "id": "d9495398",
   "metadata": {},
   "source": [
    "# Counting the number of Null Values"
   ]
  },
  {
   "cell_type": "code",
   "execution_count": 88,
   "id": "d8c7a7ef",
   "metadata": {},
   "outputs": [
    {
     "name": "stdout",
     "output_type": "stream",
     "text": [
      "<class 'pandas.core.frame.DataFrame'>\n",
      "RangeIndex: 8790 entries, 0 to 8789\n",
      "Data columns (total 10 columns):\n",
      " #   Column        Non-Null Count  Dtype \n",
      "---  ------        --------------  ----- \n",
      " 0   show_id       8790 non-null   object\n",
      " 1   type          8790 non-null   object\n",
      " 2   title         8790 non-null   object\n",
      " 3   director      6202 non-null   object\n",
      " 4   country       8503 non-null   object\n",
      " 5   date_added    8790 non-null   object\n",
      " 6   release_year  8790 non-null   int64 \n",
      " 7   rating        8790 non-null   object\n",
      " 8   duration      8790 non-null   object\n",
      " 9   listed_in     8790 non-null   object\n",
      "dtypes: int64(1), object(9)\n",
      "memory usage: 686.8+ KB\n"
     ]
    }
   ],
   "source": [
    "df.info()"
   ]
  },
  {
   "cell_type": "code",
   "execution_count": 89,
   "id": "913a35c8",
   "metadata": {},
   "outputs": [
    {
     "data": {
      "text/plain": [
       "show_id            0\n",
       "type               0\n",
       "title              0\n",
       "director        2588\n",
       "country          287\n",
       "date_added         0\n",
       "release_year       0\n",
       "rating             0\n",
       "duration           0\n",
       "listed_in          0\n",
       "dtype: int64"
      ]
     },
     "execution_count": 89,
     "metadata": {},
     "output_type": "execute_result"
    }
   ],
   "source": [
    "df.isnull().sum()"
   ]
  },
  {
   "cell_type": "markdown",
   "id": "c5b1cc95",
   "metadata": {},
   "source": [
    "# 2588 null values found in 'director' column & 287 in 'country' column"
   ]
  },
  {
   "cell_type": "code",
   "execution_count": 23,
   "id": "aaed9021",
   "metadata": {},
   "outputs": [
    {
     "name": "stdout",
     "output_type": "stream",
     "text": [
      "Empty DataFrame\n",
      "Columns: [show_id, type, title, director, country, date_added, release_year, rating, duration, listed_in]\n",
      "Index: []\n"
     ]
    }
   ],
   "source": [
    "duplicates= df[df.duplicated()]\n",
    "print(duplicates)"
   ]
  },
  {
   "cell_type": "markdown",
   "id": "0edc1e4c",
   "metadata": {},
   "source": [
    "# No Duplicate records found"
   ]
  },
  {
   "cell_type": "code",
   "execution_count": 90,
   "id": "1e07c262",
   "metadata": {},
   "outputs": [
    {
     "data": {
      "text/plain": [
       "(1920.0, 2023.0)"
      ]
     },
     "execution_count": 90,
     "metadata": {},
     "output_type": "execute_result"
    },
    {
     "data": {
      "image/png": "[encoded data removed]",
      "text/plain": [
       "<Figure size 1000x700 with 1 Axes>"
      ]
     },
     "metadata": {},
     "output_type": "display_data"
    }
   ],
   "source": [
    "import matplotlib.pyplot as plt\n",
    "plt.figure(figsize=(10,7))\n",
    "ax= df.boxplot()\n",
    "ax.set_ylim(1920,2023)"
   ]
  },
  {
   "cell_type": "code",
   "execution_count": 103,
   "id": "20abeaf7",
   "metadata": {},
   "outputs": [
    {
     "data": {
      "text/plain": [
       "array([[<Axes: title={'center': 'release_year'}>]], dtype=object)"
      ]
     },
     "execution_count": 103,
     "metadata": {},
     "output_type": "execute_result"
    },
    {
     "data": {
      "image/png": "[encoded data removed]",
      "text/plain": [
       "<Figure size 640x480 with 1 Axes>"
      ]
     },
     "metadata": {},
     "output_type": "display_data"
    }
   ],
   "source": [
    "df.hist()"
   ]
  },
  {
   "cell_type": "code",
   "execution_count": 98,
   "id": "c981f2da",
   "metadata": {},
   "outputs": [
    {
     "name": "stdout",
     "output_type": "stream",
     "text": [
      "iqr= 6.0\n",
      "lower bound= 2004.0\n",
      "upper bound= 2028.0\n"
     ]
    }
   ],
   "source": [
    "q1= df['release_year'].quantile(0.25)\n",
    "q3= df['release_year'].quantile(0.75)\n",
    "iqr= q3-q1\n",
    "print(\"iqr=\", iqr)\n",
    "\n",
    "lb= q1-1.5*iqr\n",
    "ub=q3+1.5*iqr\n",
    "print(\"lower bound=\", lb)\n",
    "print(\"upper bound=\", ub)\n"
   ]
  },
  {
   "cell_type": "code",
   "execution_count": 99,
   "id": "63f0abd1",
   "metadata": {},
   "outputs": [
    {
     "name": "stdout",
     "output_type": "stream",
     "text": [
      "Number of values less than lb: 781\n"
     ]
    }
   ],
   "source": [
    "values_less_than_lb = len(df[df['release_year'] <= lb])\n",
    "print(\"Number of values less than lb:\", values_less_than_lb)"
   ]
  },
  {
   "cell_type": "code",
   "execution_count": 96,
   "id": "d8d38ddd",
   "metadata": {},
   "outputs": [
    {
     "data": {
      "text/html": [
       "<div>\n",
       "<style scoped>\n",
       "    .dataframe tbody tr th:only-of-type {\n",
       "        vertical-align: middle;\n",
       "    }\n",
       "\n",
       "    .dataframe tbody tr th {\n",
       "        vertical-align: top;\n",
       "    }\n",
       "\n",
       "    .dataframe thead th {\n",
       "        text-align: right;\n",
       "    }\n",
       "</style>\n",
       "<table border=\"1\" class=\"dataframe\">\n",
       "  <thead>\n",
       "    <tr style=\"text-align: right;\">\n",
       "      <th></th>\n",
       "      <th>show_id</th>\n",
       "      <th>type</th>\n",
       "      <th>title</th>\n",
       "      <th>director</th>\n",
       "      <th>country</th>\n",
       "      <th>date_added</th>\n",
       "      <th>release_year</th>\n",
       "      <th>rating</th>\n",
       "      <th>duration</th>\n",
       "      <th>listed_in</th>\n",
       "    </tr>\n",
       "  </thead>\n",
       "  <tbody>\n",
       "    <tr>\n",
       "      <th>0</th>\n",
       "      <td>s1</td>\n",
       "      <td>Movie</td>\n",
       "      <td>Dick Johnson Is Dead</td>\n",
       "      <td>Kirsten Johnson</td>\n",
       "      <td>United States</td>\n",
       "      <td>9/25/2021</td>\n",
       "      <td>2020</td>\n",
       "      <td>PG-13</td>\n",
       "      <td>90 min</td>\n",
       "      <td>Documentaries</td>\n",
       "    </tr>\n",
       "    <tr>\n",
       "      <th>1</th>\n",
       "      <td>s3</td>\n",
       "      <td>TV Show</td>\n",
       "      <td>Ganglands</td>\n",
       "      <td>Julien Leclercq</td>\n",
       "      <td>France</td>\n",
       "      <td>9/24/2021</td>\n",
       "      <td>2021</td>\n",
       "      <td>TV-MA</td>\n",
       "      <td>1 Season</td>\n",
       "      <td>Crime TV Shows, International TV Shows, TV Act...</td>\n",
       "    </tr>\n",
       "    <tr>\n",
       "      <th>2</th>\n",
       "      <td>s6</td>\n",
       "      <td>TV Show</td>\n",
       "      <td>Midnight Mass</td>\n",
       "      <td>Mike Flanagan</td>\n",
       "      <td>United States</td>\n",
       "      <td>9/24/2021</td>\n",
       "      <td>2021</td>\n",
       "      <td>TV-MA</td>\n",
       "      <td>1 Season</td>\n",
       "      <td>TV Dramas, TV Horror, TV Mysteries</td>\n",
       "    </tr>\n",
       "    <tr>\n",
       "      <th>3</th>\n",
       "      <td>s14</td>\n",
       "      <td>Movie</td>\n",
       "      <td>Confessions of an Invisible Girl</td>\n",
       "      <td>Bruno Garotti</td>\n",
       "      <td>Brazil</td>\n",
       "      <td>9/22/2021</td>\n",
       "      <td>2021</td>\n",
       "      <td>TV-PG</td>\n",
       "      <td>91 min</td>\n",
       "      <td>Children &amp; Family Movies, Comedies</td>\n",
       "    </tr>\n",
       "    <tr>\n",
       "      <th>5</th>\n",
       "      <td>s9</td>\n",
       "      <td>TV Show</td>\n",
       "      <td>The Great British Baking Show</td>\n",
       "      <td>Andy Devonshire</td>\n",
       "      <td>United Kingdom</td>\n",
       "      <td>9/24/2021</td>\n",
       "      <td>2021</td>\n",
       "      <td>TV-14</td>\n",
       "      <td>9 Seasons</td>\n",
       "      <td>British TV Shows, Reality TV</td>\n",
       "    </tr>\n",
       "    <tr>\n",
       "      <th>...</th>\n",
       "      <td>...</td>\n",
       "      <td>...</td>\n",
       "      <td>...</td>\n",
       "      <td>...</td>\n",
       "      <td>...</td>\n",
       "      <td>...</td>\n",
       "      <td>...</td>\n",
       "      <td>...</td>\n",
       "      <td>...</td>\n",
       "      <td>...</td>\n",
       "    </tr>\n",
       "    <tr>\n",
       "      <th>8785</th>\n",
       "      <td>s8797</td>\n",
       "      <td>TV Show</td>\n",
       "      <td>Yunus Emre</td>\n",
       "      <td>NaN</td>\n",
       "      <td>Turkey</td>\n",
       "      <td>1/17/2017</td>\n",
       "      <td>2016</td>\n",
       "      <td>TV-PG</td>\n",
       "      <td>2 Seasons</td>\n",
       "      <td>International TV Shows, TV Dramas</td>\n",
       "    </tr>\n",
       "    <tr>\n",
       "      <th>8786</th>\n",
       "      <td>s8798</td>\n",
       "      <td>TV Show</td>\n",
       "      <td>Zak Storm</td>\n",
       "      <td>NaN</td>\n",
       "      <td>United States</td>\n",
       "      <td>9/13/2018</td>\n",
       "      <td>2016</td>\n",
       "      <td>TV-Y7</td>\n",
       "      <td>3 Seasons</td>\n",
       "      <td>Kids' TV</td>\n",
       "    </tr>\n",
       "    <tr>\n",
       "      <th>8787</th>\n",
       "      <td>s8801</td>\n",
       "      <td>TV Show</td>\n",
       "      <td>Zindagi Gulzar Hai</td>\n",
       "      <td>NaN</td>\n",
       "      <td>Pakistan</td>\n",
       "      <td>12/15/2016</td>\n",
       "      <td>2012</td>\n",
       "      <td>TV-PG</td>\n",
       "      <td>1 Season</td>\n",
       "      <td>International TV Shows, Romantic TV Shows, TV ...</td>\n",
       "    </tr>\n",
       "    <tr>\n",
       "      <th>8788</th>\n",
       "      <td>s8784</td>\n",
       "      <td>TV Show</td>\n",
       "      <td>Yoko</td>\n",
       "      <td>NaN</td>\n",
       "      <td>Pakistan</td>\n",
       "      <td>6/23/2018</td>\n",
       "      <td>2016</td>\n",
       "      <td>TV-Y</td>\n",
       "      <td>1 Season</td>\n",
       "      <td>Kids' TV</td>\n",
       "    </tr>\n",
       "    <tr>\n",
       "      <th>8789</th>\n",
       "      <td>s8786</td>\n",
       "      <td>TV Show</td>\n",
       "      <td>YOM</td>\n",
       "      <td>NaN</td>\n",
       "      <td>Pakistan</td>\n",
       "      <td>6/7/2018</td>\n",
       "      <td>2016</td>\n",
       "      <td>TV-Y7</td>\n",
       "      <td>1 Season</td>\n",
       "      <td>Kids' TV</td>\n",
       "    </tr>\n",
       "  </tbody>\n",
       "</table>\n",
       "<p>8073 rows × 10 columns</p>\n",
       "</div>"
      ],
      "text/plain": [
       "     show_id     type                             title         director  \\\n",
       "0         s1    Movie              Dick Johnson Is Dead  Kirsten Johnson   \n",
       "1         s3  TV Show                         Ganglands  Julien Leclercq   \n",
       "2         s6  TV Show                     Midnight Mass    Mike Flanagan   \n",
       "3        s14    Movie  Confessions of an Invisible Girl    Bruno Garotti   \n",
       "5         s9  TV Show     The Great British Baking Show  Andy Devonshire   \n",
       "...      ...      ...                               ...              ...   \n",
       "8785   s8797  TV Show                        Yunus Emre              NaN   \n",
       "8786   s8798  TV Show                         Zak Storm              NaN   \n",
       "8787   s8801  TV Show                Zindagi Gulzar Hai              NaN   \n",
       "8788   s8784  TV Show                              Yoko              NaN   \n",
       "8789   s8786  TV Show                               YOM              NaN   \n",
       "\n",
       "             country  date_added  release_year rating   duration  \\\n",
       "0      United States   9/25/2021          2020  PG-13     90 min   \n",
       "1             France   9/24/2021          2021  TV-MA   1 Season   \n",
       "2      United States   9/24/2021          2021  TV-MA   1 Season   \n",
       "3             Brazil   9/22/2021          2021  TV-PG     91 min   \n",
       "5     United Kingdom   9/24/2021          2021  TV-14  9 Seasons   \n",
       "...              ...         ...           ...    ...        ...   \n",
       "8785          Turkey   1/17/2017          2016  TV-PG  2 Seasons   \n",
       "8786   United States   9/13/2018          2016  TV-Y7  3 Seasons   \n",
       "8787        Pakistan  12/15/2016          2012  TV-PG   1 Season   \n",
       "8788        Pakistan   6/23/2018          2016   TV-Y   1 Season   \n",
       "8789        Pakistan    6/7/2018          2016  TV-Y7   1 Season   \n",
       "\n",
       "                                              listed_in  \n",
       "0                                         Documentaries  \n",
       "1     Crime TV Shows, International TV Shows, TV Act...  \n",
       "2                    TV Dramas, TV Horror, TV Mysteries  \n",
       "3                    Children & Family Movies, Comedies  \n",
       "5                          British TV Shows, Reality TV  \n",
       "...                                                 ...  \n",
       "8785                  International TV Shows, TV Dramas  \n",
       "8786                                           Kids' TV  \n",
       "8787  International TV Shows, Romantic TV Shows, TV ...  \n",
       "8788                                           Kids' TV  \n",
       "8789                                           Kids' TV  \n",
       "\n",
       "[8073 rows x 10 columns]"
      ]
     },
     "execution_count": 96,
     "metadata": {},
     "output_type": "execute_result"
    }
   ],
   "source": [
    "filtered_df = df[(df['release_year'] >= lb) & (df['release_year'] <= ub)]\n",
    "filtered_df"
   ]
  },
  {
   "cell_type": "code",
   "execution_count": 102,
   "id": "9290131c",
   "metadata": {},
   "outputs": [
    {
     "data": {
      "text/plain": [
       "array([[<Axes: title={'center': 'release_year'}>]], dtype=object)"
      ]
     },
     "execution_count": 102,
     "metadata": {},
     "output_type": "execute_result"
    },
    {
     "data": {
      "image/png": "[encoded data removed]",
      "text/plain": [
       "<Figure size 640x480 with 1 Axes>"
      ]
     },
     "metadata": {},
     "output_type": "display_data"
    }
   ],
   "source": [
    "filtered_df.hist()"
   ]
  }
 ],
 "metadata": {
  "kernelspec": {
   "display_name": "Python 3 (ipykernel)",
   "language": "python",
   "name": "python3"
  },
  "language_info": {
   "codemirror_mode": {
    "name": "ipython",
    "version": 3
   },
   "file_extension": ".py",
   "mimetype": "text/x-python",
   "name": "python",
   "nbconvert_exporter": "python",
   "pygments_lexer": "ipython3",
   "version": "3.11.4"
  }
 },
 "nbformat": 4,
 "nbformat_minor": 5
}
